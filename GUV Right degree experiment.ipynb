{
 "cells": [
  {
   "cell_type": "markdown",
   "id": "fac8a0c1-d7a1-438e-b6a4-1dd6bcfd8058",
   "metadata": {},
   "source": [
    "This notebook tries to figure out right degree of the GUV graph at various values of alpha"
   ]
  },
  {
   "cell_type": "code",
   "execution_count": 29,
   "id": "0b813dd7-0248-4a66-9718-b49db5dd1f4f",
   "metadata": {},
   "outputs": [],
   "source": [
    "q = 32"
   ]
  },
  {
   "cell_type": "code",
   "execution_count": 30,
   "id": "39f79483-d5e6-4755-ac37-7f857eeb2d0b",
   "metadata": {},
   "outputs": [],
   "source": [
    "n = 2"
   ]
  },
  {
   "cell_type": "code",
   "execution_count": 31,
   "id": "04397a44-d7a9-4175-9ea4-07ef5e096367",
   "metadata": {},
   "outputs": [],
   "source": [
    "m = 2"
   ]
  },
  {
   "cell_type": "code",
   "execution_count": 32,
   "id": "29e6c04f-5cc8-4adb-b730-78fdbe5a181f",
   "metadata": {},
   "outputs": [],
   "source": [
    "h = 4"
   ]
  },
  {
   "cell_type": "code",
   "execution_count": 33,
   "id": "4bb50e97-f7ef-4735-8ef7-11d88ba3b122",
   "metadata": {},
   "outputs": [],
   "source": [
    "F = GF(q, name = 'X')"
   ]
  },
  {
   "cell_type": "code",
   "execution_count": 34,
   "id": "6c7e0bb9-2012-4c37-934c-d07f83a951c4",
   "metadata": {},
   "outputs": [],
   "source": [
    "X = F.gen()"
   ]
  },
  {
   "cell_type": "code",
   "execution_count": 35,
   "id": "53a5bf79-6066-4d14-92b0-b48c050565c2",
   "metadata": {},
   "outputs": [],
   "source": [
    "PolyF = PolynomialRing(F, name = 'Y')"
   ]
  },
  {
   "cell_type": "code",
   "execution_count": 36,
   "id": "15a72ed8-b0dd-49a2-929f-1a1e57671b11",
   "metadata": {},
   "outputs": [],
   "source": [
    "E = PolyF.irreducible_element(n)"
   ]
  },
  {
   "cell_type": "code",
   "execution_count": 37,
   "id": "11173c15-8eef-4b34-ae0b-f80648171c74",
   "metadata": {},
   "outputs": [
    {
     "data": {
      "text/plain": [
       "Y^2 + (X^3 + X^2 + X + 1)*Y + X^3 + X"
      ]
     },
     "execution_count": 37,
     "metadata": {},
     "output_type": "execute_result"
    }
   ],
   "source": [
    "E"
   ]
  },
  {
   "cell_type": "code",
   "execution_count": 38,
   "id": "32da4dc1-52f6-42c6-a236-410fdba25ad7",
   "metadata": {},
   "outputs": [],
   "source": [
    "Y = PolyF.gen()"
   ]
  },
  {
   "cell_type": "code",
   "execution_count": 39,
   "id": "08a15401-4cea-4608-b256-e7c7c3e7a01a",
   "metadata": {},
   "outputs": [],
   "source": [
    "QuotientF = PolyF.quotient(E, name='Z')"
   ]
  },
  {
   "cell_type": "code",
   "execution_count": 40,
   "id": "4ab876ec-10ad-4ddd-976b-25aaac6bd9ea",
   "metadata": {},
   "outputs": [],
   "source": [
    "Z = QuotientF.gen()"
   ]
  },
  {
   "cell_type": "code",
   "execution_count": 43,
   "id": "35675552-6af4-46bf-ac7f-6f17b53cd936",
   "metadata": {},
   "outputs": [
    {
     "name": "stdout",
     "output_type": "stream",
     "text": [
      "Bad seed found at X^4 + X^3 + 1 with preimage size of 0 = 32 instead of 1\n",
      "Bad seed found at X^4 + X^2 + X with preimage size of 0 = 32 instead of 1\n"
     ]
    }
   ],
   "source": [
    "for alpha in F:\n",
    "    count = 0\n",
    "    for f in QuotientF:\n",
    "        e1 = f.lift()(alpha)\n",
    "        e2 = (f^h).lift()(alpha)\n",
    "        if (e1 == 0 and e2 == 0):\n",
    "            count = count + 1\n",
    "            #print(f)\n",
    "    if count > 1:\n",
    "        print(\"Bad seed found at {} with preimage size of 0 = {} instead of 1\".format(alpha, count))"
   ]
  },
  {
   "cell_type": "code",
   "execution_count": null,
   "id": "ecee162c-d047-41f0-90c8-4464b26b9006",
   "metadata": {},
   "outputs": [],
   "source": []
  },
  {
   "cell_type": "code",
   "execution_count": null,
   "id": "5019f0f6-a6ca-49f4-8a68-975ddda13ed7",
   "metadata": {},
   "outputs": [],
   "source": []
  },
  {
   "cell_type": "code",
   "execution_count": null,
   "id": "1f23b8ea-09fd-4fc0-b54e-d44184419134",
   "metadata": {},
   "outputs": [],
   "source": []
  },
  {
   "cell_type": "code",
   "execution_count": null,
   "id": "c356b4f2-97e2-44af-8a59-0a5b669329a4",
   "metadata": {},
   "outputs": [],
   "source": []
  },
  {
   "cell_type": "code",
   "execution_count": null,
   "id": "3698be4f-9ad8-45c0-acbb-0419faaaf1b6",
   "metadata": {},
   "outputs": [],
   "source": []
  },
  {
   "cell_type": "code",
   "execution_count": null,
   "id": "15cbec10-cc58-4974-aeed-1f1377381ada",
   "metadata": {},
   "outputs": [],
   "source": []
  },
  {
   "cell_type": "code",
   "execution_count": null,
   "id": "96fc07f4-8d53-4294-8f43-48a16a697424",
   "metadata": {},
   "outputs": [],
   "source": []
  },
  {
   "cell_type": "code",
   "execution_count": null,
   "id": "39b6ce12-8a84-4a35-b73e-1d10dd3feaa6",
   "metadata": {},
   "outputs": [],
   "source": []
  },
  {
   "cell_type": "code",
   "execution_count": null,
   "id": "49dfee76-e2ce-4137-b265-52dfb8614b5b",
   "metadata": {},
   "outputs": [],
   "source": []
  },
  {
   "cell_type": "code",
   "execution_count": null,
   "id": "0ace3ed2-cfc3-47b7-af4b-ed2db36c90f4",
   "metadata": {},
   "outputs": [],
   "source": []
  }
 ],
 "metadata": {
  "kernelspec": {
   "display_name": "SageMath 10.4",
   "language": "sage",
   "name": "sagemath-10.4"
  },
  "language_info": {
   "codemirror_mode": {
    "name": "ipython",
    "version": 3
   },
   "file_extension": ".py",
   "mimetype": "text/x-python",
   "name": "python",
   "nbconvert_exporter": "python",
   "pygments_lexer": "ipython3",
   "version": "3.12.4"
  }
 },
 "nbformat": 4,
 "nbformat_minor": 5
}
